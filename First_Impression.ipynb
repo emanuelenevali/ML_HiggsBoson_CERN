{
 "cells": [
  {
   "cell_type": "code",
   "execution_count": 95,
   "id": "54f3035a",
   "metadata": {},
   "outputs": [],
   "source": [
    "import numpy as np"
   ]
  },
  {
   "cell_type": "code",
   "execution_count": 102,
   "id": "3e9be5ec",
   "metadata": {},
   "outputs": [
    {
     "name": "stderr",
     "output_type": "stream",
     "text": [
      "C:\\Users\\manu4\\AppData\\Local\\Temp\\ipykernel_11192\\2836442374.py:5: DeprecationWarning: `np.int` is a deprecated alias for the builtin `int`. To silence this warning, use `int` by itself. Doing this will not modify any behavior and is safe. When replacing `np.int`, you may wish to use e.g. `np.int64` or `np.int32` to specify the precision. If you wish to review your current use, check the release note link for additional information.\n",
      "Deprecated in NumPy 1.20; for more details and guidance: https://numpy.org/devdocs/release/1.20.0-notes.html#deprecations\n",
      "  ids = x[:, 0].astype(np.int)\n"
     ]
    },
    {
     "data": {
      "text/plain": [
       "(250000, 30)"
      ]
     },
     "execution_count": 102,
     "metadata": {},
     "output_type": "execute_result"
    }
   ],
   "source": [
    "def load_csv_data(data_path, sub_sample=False):\n",
    "    \"\"\"Loads data and returns y (class labels), tX (features) and ids (event ids)\"\"\"\n",
    "    y = np.genfromtxt(data_path, delimiter=\",\", skip_header=1, dtype=str, usecols=1)\n",
    "    x = np.genfromtxt(data_path, delimiter=\",\", skip_header=1)\n",
    "    ids = x[:, 0].astype(np.int)\n",
    "    input_data = x[:, 2:]\n",
    "\n",
    "    # convert class labels from strings to binary (-1,1)\n",
    "    yb = np.ones(len(y))\n",
    "    yb[np.where(y == 'b')] = -1\n",
    "\n",
    "    # sub-sample\n",
    "    if sub_sample:\n",
    "        yb = yb[::50]\n",
    "        input_data = input_data[::50]\n",
    "        ids = ids[::50]\n",
    "\n",
    "    return yb, input_data, ids\n",
    "y,tx,_=load_csv_data('train.csv')"
   ]
  },
  {
   "cell_type": "code",
   "execution_count": 107,
   "id": "a6950086",
   "metadata": {},
   "outputs": [],
   "source": [
    "def missing_values_elimination(X):\n",
    "    \"\"\"\n",
    "    Deletion of features with more than 70% missing values and imposition of the median in the remaining features\n",
    "    \"\"\"\n",
    "    N, D = X.shape\n",
    "    missing_data = np.zeros(D)\n",
    "    cols_to_delete = []\n",
    "    for i in range(D):\n",
    "        missing_data[i] = np.count_nonzero(X[:,i]==-999)/N\n",
    "\n",
    "        if missing_data[i]>0.7:\n",
    "            cols_to_delete.append(i)\n",
    "\n",
    "        elif missing_data[i]>0:\n",
    "            X_feature = X[:,i]\n",
    "            median = np.median(X_feature[X_feature != -999])\n",
    "            X[:,i] = np.where(X[:,i]==-999, median, X[:,i])\n",
    "\n",
    "    X[:,cols_to_delete]=0\n",
    "\n",
    "    return X\n",
    "tx=missing_values_elimination(tx)"
   ]
  },
  {
   "cell_type": "code",
   "execution_count": 108,
   "id": "b84af3a1",
   "metadata": {},
   "outputs": [],
   "source": [
    "def standardize(x):\n",
    "    \"\"\"Standardize the original data set.\"\"\"\n",
    "    mean_x = np.mean(x)\n",
    "    x = x - mean_x\n",
    "    std_x = np.std(x)\n",
    "    x = x / std_x\n",
    "    return x\n",
    "tx=standardize(tx)"
   ]
  },
  {
   "cell_type": "code",
   "execution_count": 109,
   "id": "45a53d32",
   "metadata": {
    "scrolled": true
   },
   "outputs": [
    {
     "data": {
      "text/plain": [
       "numpy.ndarray"
      ]
     },
     "execution_count": 109,
     "metadata": {},
     "output_type": "execute_result"
    }
   ],
   "source": [
    "tx=np.array(tx)\n",
    "type(tx)"
   ]
  },
  {
   "cell_type": "code",
   "execution_count": 116,
   "id": "c03621b8",
   "metadata": {
    "scrolled": true
   },
   "outputs": [],
   "source": [
    "def compute_loss_MSE(y, tx, w):\n",
    "\n",
    "    \"\"\"\n",
    "    Computes the loss function using the Mean Squared Error as Cost\n",
    "    INPUTS: y = target, tx = sample matrix, w = weights vector\n",
    "    OUTPUT: evaluation of the MSE given the inputs\n",
    "    \"\"\"\n",
    "\n",
    "    e = y - tx @ w\n",
    "    N = len(y)\n",
    "    return (e**2).sum()/(2*N)\n",
    "def ridge_regression(y, tx, lambda_):\n",
    "\n",
    "    \"\"\"\n",
    "    Computation of the weights vector by solving the L2-regularized normal equations for linear regression\n",
    "    INPUTS: y = target, tx = sample matrix, lambda_ = regularization parameter\n",
    "    OUTPUTS: w = weights vector, loss = corresponding MSE evaluation\n",
    "    \"\"\"\n",
    "\n",
    "    N = len(y)\n",
    "    D = tx.shape[1]\n",
    "    I = np.eye(D)\n",
    "    w = np.linalg.solve(tx.T @ tx + 2*N*lambda_*I, tx.T @ y)\n",
    "    loss = compute_loss_MSE(y, tx, w)\n",
    "    return w,loss\n",
    "\n",
    "\n",
    "w,loss=ridge_regression(y,tx, 0.1)\n"
   ]
  },
  {
   "cell_type": "code",
   "execution_count": 132,
   "id": "50149f51",
   "metadata": {},
   "outputs": [
    {
     "name": "stderr",
     "output_type": "stream",
     "text": [
      "C:\\Users\\manu4\\AppData\\Local\\Temp\\ipykernel_11192\\2836442374.py:5: DeprecationWarning: `np.int` is a deprecated alias for the builtin `int`. To silence this warning, use `int` by itself. Doing this will not modify any behavior and is safe. When replacing `np.int`, you may wish to use e.g. `np.int64` or `np.int32` to specify the precision. If you wish to review your current use, check the release note link for additional information.\n",
      "Deprecated in NumPy 1.20; for more details and guidance: https://numpy.org/devdocs/release/1.20.0-notes.html#deprecations\n",
      "  ids = x[:, 0].astype(np.int)\n"
     ]
    }
   ],
   "source": [
    "_,data_test,_=load_csv_data('test.csv')\n",
    "data_test=missing_values_elimination(data_test)"
   ]
  },
  {
   "cell_type": "code",
   "execution_count": 133,
   "id": "bc62d7fd",
   "metadata": {},
   "outputs": [
    {
     "data": {
      "text/plain": [
       "array([-25.42392119, -14.54822374, -13.14886464, ...,   0.11004155,\n",
       "        -0.23295398, -24.96113589])"
      ]
     },
     "execution_count": 133,
     "metadata": {},
     "output_type": "execute_result"
    }
   ],
   "source": [
    "y_pred=data_test@w\n",
    "y_pred"
   ]
  },
  {
   "cell_type": "code",
   "execution_count": null,
   "id": "d8827d03",
   "metadata": {},
   "outputs": [],
   "source": []
  }
 ],
 "metadata": {
  "kernelspec": {
   "display_name": "Python 3 (ipykernel)",
   "language": "python",
   "name": "python3"
  },
  "language_info": {
   "codemirror_mode": {
    "name": "ipython",
    "version": 3
   },
   "file_extension": ".py",
   "mimetype": "text/x-python",
   "name": "python",
   "nbconvert_exporter": "python",
   "pygments_lexer": "ipython3",
   "version": "3.10.5"
  }
 },
 "nbformat": 4,
 "nbformat_minor": 5
}
