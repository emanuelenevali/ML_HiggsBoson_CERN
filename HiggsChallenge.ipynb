{
 "cells": [
  {
   "cell_type": "markdown",
   "metadata": {},
   "source": [
    "# Higgs Boson - ML Challenge"
   ]
  },
  {
   "cell_type": "code",
   "execution_count": 1,
   "metadata": {},
   "outputs": [],
   "source": [
    "# Useful starting lines\n",
    "%matplotlib inline\n",
    "import numpy as np\n",
    "import matplotlib.pyplot as plt\n",
    "\n",
    "from implementation import *\n",
    "from model_helpers import *\n",
    "from data_helpers import *\n",
    "\n",
    "import warnings\n",
    "warnings.simplefilter(\"ignore\")\n",
    "\n",
    "%load_ext autoreload\n",
    "%autoreload 2"
   ]
  },
  {
   "cell_type": "markdown",
   "metadata": {},
   "source": [
    "## Load the dataset"
   ]
  },
  {
   "cell_type": "code",
   "execution_count": 2,
   "metadata": {},
   "outputs": [],
   "source": [
    "paths = { \n",
    "    'train' : 'data/train.csv',\n",
    "     'test' : 'data/test.csv',\n",
    "     'submission' : 'data/sample-submission.csv'\n",
    "        }\n",
    "N = 4\n",
    "\n",
    "y_tr, tx_tr, ids_tr = load_csv_data(paths['train'], sub_sample=False)\n",
    "y_te, tx_te, ids_te = load_csv_data(paths['test'])"
   ]
  },
  {
   "cell_type": "code",
   "execution_count": 3,
   "metadata": {},
   "outputs": [],
   "source": [
    "len_test = len(y_te)\n",
    "\n",
    "y_tr = y_tr[:, np.newaxis]\n",
    "y_pred = np.zeros(len_test)"
   ]
  },
  {
   "cell_type": "markdown",
   "metadata": {},
   "source": [
    "## Divide into 4 different subsets depending on jet value"
   ]
  },
  {
   "cell_type": "code",
   "execution_count": 4,
   "metadata": {},
   "outputs": [],
   "source": [
    "mask_tr = get_mask(tx_tr)\n",
    "mask_te = get_mask(tx_te)\n",
    "\n",
    "x_tr_subsamples = []\n",
    "y_tr_subsamples = []\n",
    "\n",
    "x_te_subsamples = []\n",
    "\n",
    "for i in range(N):\n",
    "    x_tr_subsamples.append(tx_tr[mask_tr[i]])\n",
    "    y_tr_subsamples.append(y_tr[mask_tr[i]])\n",
    "    x_te_subsamples.append(tx_te[mask_te[i]])"
   ]
  },
  {
   "cell_type": "code",
   "execution_count": 5,
   "metadata": {},
   "outputs": [
    {
     "name": "stdout",
     "output_type": "stream",
     "text": [
      "Dimension of subsample 0: 99913\n",
      "Dimension of subsample 1: 77544\n",
      "Dimension of subsample 2: 50379\n",
      "Dimension of subsample 3: 22164\n"
     ]
    }
   ],
   "source": [
    "for i in range(N):\n",
    "    print(f'Dimension of subsample {i}: {len(x_tr_subsamples[i])}')"
   ]
  },
  {
   "cell_type": "markdown",
   "metadata": {},
   "source": [
    "## Process the dataset"
   ]
  },
  {
   "cell_type": "code",
   "execution_count": 6,
   "metadata": {},
   "outputs": [],
   "source": [
    "for j in range(N):\n",
    "    x_tr_subsamples[j], x_te_subsamples[j] = pre_processing(x_tr_subsamples[j], x_te_subsamples[j], j)"
   ]
  },
  {
   "cell_type": "markdown",
   "metadata": {},
   "source": [
    "## Cross Validation"
   ]
  },
  {
   "cell_type": "code",
   "execution_count": 33,
   "metadata": {},
   "outputs": [],
   "source": [
    "def cross_validation(y, x, k_indices, k, lambda_, degree, gamma, function, max_iters=500):\n",
    "    \"\"\"\n",
    "    Return the loss of ridge regression for a fold corresponding to k_indices\n",
    "    \n",
    "    Args:\n",
    "        y:          shape=(N, 1)\n",
    "        x:          shape=(N, D)\n",
    "        k_indices:  2D array returned by build_k_indices()\n",
    "        k:          scalar, the k-th fold\n",
    "        lambda_:    scalar, used by ridge regression\n",
    "        degree:     scalar, used by build poly\n",
    "        gamma:      scalar, stepsize\n",
    "\n",
    "    Returns:\n",
    "        test loss: probability of predicting correct values\n",
    "    \"\"\"\n",
    "    \n",
    "    train_id = np.delete(k_indices, k, axis=0).ravel()\n",
    "    test_id = k_indices[k]\n",
    "    \n",
    "    x_tr, y_tr = x[train_id], y[train_id]\n",
    "    x_te, y_te = x[test_id], y[test_id]\n",
    "    \n",
    "    x_tr, x_te = build_poly(x_tr, degree), build_poly(x_te, degree)\n",
    "    \n",
    "    initial_w = np.zeros((x_tr.shape[1], 1))\n",
    "    \n",
    "    \n",
    "    if function == 'RidgeRegression':\n",
    "        \n",
    "        w, _ = ridge_regression(y_tr, x_tr, lambda_)\n",
    "\n",
    "    elif function == 'LeastSquares':\n",
    "        \n",
    "        w, _ = least_squares(y_tr, x_tr)\n",
    "        \n",
    "    elif function == 'LogisticRegression':\n",
    "        \n",
    "        w, _ = logistic_regression(y_tr, x_tr, initial_w, max_iters, gamma)\n",
    "        \n",
    "    elif function == 'RegLogisticRegression':\n",
    "        \n",
    "        w, _ = reg_logistic_regression(y_tr, x_tr, lambda_, initial_w, max_iters, gamma)\n",
    "    \n",
    "    \n",
    "    return (y_tr == predict_labels(x_tr, w)).mean(), (y_te == predict_labels(x_te, w)).mean()"
   ]
  },
  {
   "cell_type": "code",
   "execution_count": 45,
   "metadata": {},
   "outputs": [],
   "source": [
    "def cross_validation_grid_search(txs, ys, func):\n",
    "    \"\"\"\n",
    "    Runs cross validation on the data with different values of hyperparameters to compare accuracy\n",
    "    \n",
    "    Args:\n",
    "        txs: subsets of train dataset\n",
    "        ys:  labels of the different subsets\n",
    "        func: string, types of function\n",
    "    \"\"\"\n",
    "    \n",
    "    # Hyperparameters\n",
    "    k_fold = 4\n",
    "    seed = 100\n",
    "    \n",
    "    # Lambda: regularization parameter\n",
    "    lambdas = [1e-7, 1e-6, 1e-5, 1e-4, 1e-3]\n",
    "    \n",
    "    # Degree: feature augmentation\n",
    "    degrees = range(1,11,1)\n",
    "    \n",
    "    # Gamma: stepsize\n",
    "    #gammas = [1e-6, 1e-5, 1e-4, 1e-3]\n",
    "    \n",
    "    # split data in k fold\n",
    "    k_indices = []\n",
    "    for i in range(len(txs)):\n",
    "        k_indices.append(build_k_indices(ys[i].shape[0], k_fold, seed))\n",
    "        \n",
    "    print(f\"Function: {func}\")\n",
    "        \n",
    "    best_tuple = [(-1, -1, -1, -1)]*N\n",
    "    \n",
    "    # cross validation\n",
    "    \n",
    "    #lambdas_acc = {}\n",
    "    degrees_acc = {}\n",
    "    \n",
    "    for i in range(len(txs)):\n",
    "        \n",
    "        #lambdas_acc[i] = [0]*len(lambdas)\n",
    "        degrees_acc[i] = [0]*len(degrees)\n",
    "        \n",
    "        max_acc_tr = 0\n",
    "        max_acc_te = 0\n",
    "        \n",
    "        print(f\"->Subset {i}:\")\n",
    "        \n",
    "        for d_i, d in enumerate(degrees):\n",
    "            max_local = 0\n",
    "            for l in lambdas:\n",
    "                for g in [0]:\n",
    "                    \n",
    "                    pred_pcts_tr = []\n",
    "                    pred_pcts_te = []\n",
    "                    \n",
    "                    for k in range(k_fold):\n",
    "                        pred_pct_tr, pred_pct_te = cross_validation(ys[i], txs[i], k_indices[i], k, l, d, g, func)\n",
    "                        pred_pcts_tr.append(pred_pct_tr)\n",
    "                        pred_pcts_te.append(pred_pct_te)\n",
    "\n",
    "                    pct_tr = np.mean(pred_pcts_tr)\n",
    "                    pct_te = np.mean(pred_pcts_te)\n",
    "                    \n",
    "                    if pct_tr > max_local:\n",
    "                        max_local = pct_tr\n",
    "                        #lambdas_acc[i][l_i] = pct_tr\n",
    "                        degrees_acc[i][d_i] = pct_tr\n",
    "\n",
    "                    if pct_te > max_acc_te:\n",
    "                        max_acc_te = pct_te\n",
    "                        best_tuple[i] = (l,d,g,pct_te)\n",
    "                        print(f\"- Set {i}/lamdba={l}/deg={d}/gamma={g}/Test acc={np.around(pct_te, 3)}/Train acc={np.around(pct_tr, 3)}\")\n",
    "                        \n",
    "    \n",
    "    return best_tuple, degrees_acc"
   ]
  },
  {
   "cell_type": "code",
   "execution_count": 46,
   "metadata": {},
   "outputs": [
    {
     "name": "stdout",
     "output_type": "stream",
     "text": [
      "Function: RidgeRegression\n",
      "->Subset 0:\n",
      "- Set 0/lamdba=1e-07/deg=1/gamma=0/Test acc=0.845/Train acc=0.845\n",
      "- Set 0/lamdba=0.001/deg=1/gamma=0/Test acc=0.845/Train acc=0.845\n",
      "- Set 0/lamdba=1e-07/deg=2/gamma=0/Test acc=0.845/Train acc=0.846\n",
      "- Set 0/lamdba=1e-07/deg=4/gamma=0/Test acc=0.846/Train acc=0.847\n",
      "- Set 0/lamdba=1e-05/deg=4/gamma=0/Test acc=0.846/Train acc=0.847\n",
      "- Set 0/lamdba=1e-07/deg=5/gamma=0/Test acc=0.846/Train acc=0.847\n",
      "- Set 0/lamdba=1e-06/deg=5/gamma=0/Test acc=0.846/Train acc=0.847\n",
      "- Set 0/lamdba=1e-05/deg=5/gamma=0/Test acc=0.846/Train acc=0.847\n",
      "- Set 0/lamdba=0.0001/deg=5/gamma=0/Test acc=0.846/Train acc=0.847\n",
      "- Set 0/lamdba=1e-07/deg=6/gamma=0/Test acc=0.846/Train acc=0.848\n",
      "- Set 0/lamdba=1e-05/deg=6/gamma=0/Test acc=0.847/Train acc=0.848\n",
      "- Set 0/lamdba=0.0001/deg=6/gamma=0/Test acc=0.847/Train acc=0.848\n",
      "- Set 0/lamdba=0.001/deg=6/gamma=0/Test acc=0.847/Train acc=0.848\n",
      "- Set 0/lamdba=0.001/deg=9/gamma=0/Test acc=0.847/Train acc=0.848\n",
      "->Subset 1:\n",
      "- Set 1/lamdba=1e-07/deg=1/gamma=0/Test acc=0.809/Train acc=0.811\n",
      "- Set 1/lamdba=1e-05/deg=1/gamma=0/Test acc=0.809/Train acc=0.811\n",
      "- Set 1/lamdba=0.0001/deg=1/gamma=0/Test acc=0.809/Train acc=0.811\n",
      "- Set 1/lamdba=1e-07/deg=2/gamma=0/Test acc=0.81/Train acc=0.812\n",
      "- Set 1/lamdba=1e-05/deg=2/gamma=0/Test acc=0.81/Train acc=0.812\n",
      "- Set 1/lamdba=0.001/deg=2/gamma=0/Test acc=0.81/Train acc=0.812\n",
      "- Set 1/lamdba=0.001/deg=3/gamma=0/Test acc=0.81/Train acc=0.812\n",
      "- Set 1/lamdba=1e-07/deg=4/gamma=0/Test acc=0.812/Train acc=0.814\n",
      "- Set 1/lamdba=0.001/deg=4/gamma=0/Test acc=0.813/Train acc=0.815\n",
      "- Set 1/lamdba=1e-07/deg=5/gamma=0/Test acc=0.813/Train acc=0.815\n",
      "- Set 1/lamdba=1e-06/deg=5/gamma=0/Test acc=0.813/Train acc=0.815\n",
      "- Set 1/lamdba=1e-05/deg=5/gamma=0/Test acc=0.813/Train acc=0.815\n",
      "- Set 1/lamdba=0.0001/deg=5/gamma=0/Test acc=0.813/Train acc=0.815\n",
      "- Set 1/lamdba=0.001/deg=7/gamma=0/Test acc=0.814/Train acc=0.816\n",
      "->Subset 2:\n",
      "- Set 2/lamdba=1e-07/deg=1/gamma=0/Test acc=0.844/Train acc=0.848\n",
      "- Set 2/lamdba=1e-05/deg=1/gamma=0/Test acc=0.844/Train acc=0.848\n",
      "- Set 2/lamdba=0.0001/deg=1/gamma=0/Test acc=0.844/Train acc=0.848\n",
      "- Set 2/lamdba=0.001/deg=1/gamma=0/Test acc=0.844/Train acc=0.848\n",
      "- Set 2/lamdba=1e-07/deg=2/gamma=0/Test acc=0.844/Train acc=0.849\n",
      "- Set 2/lamdba=1e-05/deg=2/gamma=0/Test acc=0.845/Train acc=0.849\n",
      "- Set 2/lamdba=0.0001/deg=2/gamma=0/Test acc=0.845/Train acc=0.849\n",
      "- Set 2/lamdba=0.001/deg=2/gamma=0/Test acc=0.845/Train acc=0.849\n",
      "- Set 2/lamdba=1e-07/deg=4/gamma=0/Test acc=0.846/Train acc=0.851\n",
      "- Set 2/lamdba=0.001/deg=5/gamma=0/Test acc=0.846/Train acc=0.851\n",
      "- Set 2/lamdba=0.001/deg=8/gamma=0/Test acc=0.846/Train acc=0.851\n",
      "- Set 2/lamdba=0.001/deg=9/gamma=0/Test acc=0.846/Train acc=0.851\n",
      "->Subset 3:\n",
      "- Set 3/lamdba=1e-07/deg=1/gamma=0/Test acc=0.833/Train acc=0.845\n",
      "- Set 3/lamdba=1e-06/deg=1/gamma=0/Test acc=0.833/Train acc=0.845\n",
      "- Set 3/lamdba=1e-05/deg=1/gamma=0/Test acc=0.833/Train acc=0.845\n",
      "- Set 3/lamdba=0.0001/deg=1/gamma=0/Test acc=0.833/Train acc=0.845\n",
      "- Set 3/lamdba=1e-07/deg=2/gamma=0/Test acc=0.833/Train acc=0.846\n",
      "- Set 3/lamdba=1e-05/deg=2/gamma=0/Test acc=0.833/Train acc=0.846\n",
      "- Set 3/lamdba=0.0001/deg=2/gamma=0/Test acc=0.834/Train acc=0.846\n",
      "- Set 3/lamdba=0.001/deg=2/gamma=0/Test acc=0.834/Train acc=0.846\n",
      "- Set 3/lamdba=1e-07/deg=4/gamma=0/Test acc=0.84/Train acc=0.853\n",
      "- Set 3/lamdba=1e-05/deg=4/gamma=0/Test acc=0.84/Train acc=0.853\n",
      "- Set 3/lamdba=0.0001/deg=4/gamma=0/Test acc=0.84/Train acc=0.853\n",
      "- Set 3/lamdba=0.001/deg=4/gamma=0/Test acc=0.841/Train acc=0.853\n",
      "- Set 3/lamdba=0.001/deg=5/gamma=0/Test acc=0.842/Train acc=0.854\n",
      "- Set 3/lamdba=0.0001/deg=6/gamma=0/Test acc=0.842/Train acc=0.854\n",
      "- Set 3/lamdba=0.001/deg=6/gamma=0/Test acc=0.843/Train acc=0.854\n"
     ]
    }
   ],
   "source": [
    "functions = ['RidgeRegression', 'LeastSquares', 'LogisticRegression', 'RegLogisticRegression']\n",
    "\n",
    "best_tuple = {}\n",
    "\n",
    "for func in functions[0:1]:\n",
    "    best_tuple[func], degrees_train = cross_validation_grid_search(x_tr_subsamples,y_tr_subsamples,func)"
   ]
  },
  {
   "cell_type": "code",
   "execution_count": 47,
   "metadata": {},
   "outputs": [
    {
     "data": {
      "text/plain": [
       "{0: [0.845220460672058,\n",
       "  0.8457542637521018,\n",
       "  0.8457542637521018,\n",
       "  0.8466817466036779,\n",
       "  0.8473389916459817,\n",
       "  0.8477259988790136,\n",
       "  0.8478828035337764,\n",
       "  0.8478060693410201,\n",
       "  0.8478561133797742,\n",
       "  0.8478360957642725],\n",
       " 1: [0.8106408404690669,\n",
       "  0.8117069018879604,\n",
       "  0.8117069018879604,\n",
       "  0.8148062175453077,\n",
       "  0.8155455827229272,\n",
       "  0.8156143608789848,\n",
       "  0.8155971663399705,\n",
       "  0.8155928677052168,\n",
       "  0.8157906049038826,\n",
       "  0.815794903538636],\n",
       " 2: [0.8483404795934573,\n",
       "  0.8494653538722143,\n",
       "  0.8494653538722143,\n",
       "  0.850894605896988,\n",
       "  0.8513445556084909,\n",
       "  0.8516687840770737,\n",
       "  0.8520194801757451,\n",
       "  0.8521650521412313,\n",
       "  0.852806892170875,\n",
       "  0.8529458472288391],\n",
       " 3: [0.8453648559225171,\n",
       "  0.8459062744390303,\n",
       "  0.8459062744390303,\n",
       "  0.8528544787342839,\n",
       "  0.8539523551705468,\n",
       "  0.8544486554773507,\n",
       "  0.8543884978644047,\n",
       "  0.8543884978644047,\n",
       "  0.8548998375744451,\n",
       "  0.8554111772844855]}"
      ]
     },
     "execution_count": 47,
     "metadata": {},
     "output_type": "execute_result"
    }
   ],
   "source": [
    "degrees\n",
    "lambdas\n",
    "lambdas_train\n",
    "degrees_train"
   ]
  },
  {
   "cell_type": "markdown",
   "metadata": {},
   "source": [
    "### Lambda analysis"
   ]
  },
  {
   "cell_type": "code",
   "execution_count": 39,
   "metadata": {},
   "outputs": [],
   "source": [
    "import matplotlib as mpl\n",
    "\n",
    "mpl.rcParams['pdf.fonttype'] = 42\n",
    "mpl.rcParams['ps.fonttype'] = 42\n",
    "mpl.rcParams['font.family'] = 'Arial'\n",
    "plt.rcParams['font.size'] = 15\n",
    "plt.rcParams['legend.fontsize'] = 18\n",
    "plt.rcParams['xtick.direction'] = 'out'\n",
    "plt.rcParams['ytick.direction'] = 'out'\n",
    "plt.rcParams['xtick.major.size'] = 5.0\n",
    "plt.rcParams['xtick.minor.size'] = 3.0\n",
    "plt.rcParams['ytick.major.size'] = 5.0\n",
    "plt.rcParams['ytick.minor.size'] = 3.0"
   ]
  },
  {
   "cell_type": "code",
   "execution_count": 40,
   "metadata": {},
   "outputs": [],
   "source": [
    "l0 = np.array(lambdas[0])\n",
    "l1 = np.array(lambdas[1])\n",
    "l2 = np.array(lambdas[2])\n",
    "l3 = np.array(lambdas[3])\n",
    "\n",
    "ll = np.vstack((l0,l1,l2,l3))\n",
    "\n",
    "l0t = np.array(lambdas_train[0])\n",
    "l1t = np.array(lambdas_train[1])\n",
    "l2t = np.array(lambdas_train[2])\n",
    "l3t = np.array(lambdas_train[3])\n",
    "\n",
    "llt = np.vstack((l0t,l1t,l2t,l3t))"
   ]
  },
  {
   "cell_type": "code",
   "execution_count": 42,
   "metadata": {},
   "outputs": [
    {
     "data": {
      "image/png": "[encoded data removed]",
      "text/plain": [
       "<Figure size 720x432 with 1 Axes>"
      ]
     },
     "metadata": {
      "needs_background": "light"
     },
     "output_type": "display_data"
    }
   ],
   "source": [
    "fig = plt.figure(figsize=(10,6))\n",
    "ax = fig.add_subplot(1,1,1)\n",
    "colors = ['#0051a2', '#97964a', '#ffd44f', '#f4777f', '#93003a']\n",
    "params = [1e-9, 1e-8, 1e-7, 1e-6, 1e-5, 1e-4, 1e-3, 1e-2, 1e-1]\n",
    "\n",
    "ax.set_xscale('log')\n",
    "\n",
    "ax.set_ylabel('Accuracy (%)')\n",
    "ax.set_xlabel(r'Values of $\\lambda$')\n",
    "\n",
    "#ax.plot(params, l0, color=colors[0], label='Subset with jet value 0', linestyle='--')\n",
    "#ax.plot(params, l1, color=colors[1], label='Subset with jet value 1', linestyle='--')\n",
    "#ax.plot(params, l2, color=colors[2], label='Subset with jet value 2', linestyle='--')\n",
    "#ax.plot(params, l3, color=colors[3], label='Subset with jet value 3', linestyle='--')\n",
    "ax.plot(params, np.mean(ll, axis=0), color=colors[0], label='Test set')\n",
    "\n",
    "#ax.plot(params, l0t, color=colors[0], label='Subset with jet value 0', linestyle='--')\n",
    "#ax.plot(params, l1t, color=colors[1], label='Subset with jet value 1', linestyle='--')\n",
    "#ax.plot(params, l2t, color=colors[2], label='Subset with jet value 2', linestyle='--')\n",
    "#ax.plot(params, l3t, color=colors[3], label='Subset with jet value 3', linestyle='--')\n",
    "ax.plot(params, np.mean(llt, axis=0), color=colors[1], linestyle='--', label='Train set')\n",
    "\n",
    "major_ticks = params\n",
    "minor_ticks = np.arange(0, 1e-1, 100)\n",
    "\n",
    "ax.set_xticks(major_ticks)\n",
    "ax.set_xticks(minor_ticks, minor=True)\n",
    "\n",
    "ax.grid(which='minor', alpha=0.2)\n",
    "ax.grid(which='major', alpha=0.5)\n",
    "\n",
    "ax.set_title(r'Accuracy on the train and test set for different values of $\\lambda$')\n",
    "ax.legend(loc=0, prop={'size': 15})\n",
    "\n",
    "#plt.show()\n",
    "\n",
    "fig.savefig('./report/traintest1.png', bbox_inches='tight')\n",
    "#fig.savefig('./report/lambdas2.jpg', bbox_inches='tight')"
   ]
  },
  {
   "cell_type": "markdown",
   "metadata": {},
   "source": [
    "### Degree analysis"
   ]
  },
  {
   "cell_type": "code",
   "execution_count": 48,
   "metadata": {},
   "outputs": [],
   "source": [
    "import matplotlib as mpl\n",
    "\n",
    "mpl.rcParams['pdf.fonttype'] = 42\n",
    "mpl.rcParams['ps.fonttype'] = 42\n",
    "mpl.rcParams['font.family'] = 'Arial'\n",
    "plt.rcParams['font.size'] = 15\n",
    "plt.rcParams['legend.fontsize'] = 18\n",
    "plt.rcParams['xtick.direction'] = 'out'\n",
    "plt.rcParams['ytick.direction'] = 'out'\n",
    "plt.rcParams['xtick.major.size'] = 5.0\n",
    "plt.rcParams['xtick.minor.size'] = 3.0\n",
    "plt.rcParams['ytick.major.size'] = 5.0\n",
    "plt.rcParams['ytick.minor.size'] = 3.0"
   ]
  },
  {
   "cell_type": "code",
   "execution_count": 49,
   "metadata": {},
   "outputs": [],
   "source": [
    "d0 = np.array(degrees[0])\n",
    "d1 = np.array(degrees[1])\n",
    "d2 = np.array(degrees[2])\n",
    "d3 = np.array(degrees[3])\n",
    "\n",
    "dd = np.vstack((d0,d1,d2,d3))\n",
    "\n",
    "d0t = np.array(degrees_train[0])\n",
    "d1t = np.array(degrees_train[1])\n",
    "d2t = np.array(degrees_train[2])\n",
    "d3t = np.array(degrees_train[3])\n",
    "\n",
    "ddt = np.vstack((d0t,d1t,d2t,d3t))"
   ]
  },
  {
   "cell_type": "code",
   "execution_count": 51,
   "metadata": {},
   "outputs": [
    {
     "data": {
      "image/png": "[encoded data removed]",
      "text/plain": [
       "<Figure size 720x432 with 1 Axes>"
      ]
     },
     "metadata": {
      "needs_background": "light"
     },
     "output_type": "display_data"
    }
   ],
   "source": [
    "fig = plt.figure(figsize=(10,6))\n",
    "ax = fig.add_subplot(1,1,1)\n",
    "colors = ['#0051a2', '#97964a', '#ffd44f', '#f4777f', '#93003a']\n",
    "params = range(1, 11, 1)\n",
    "\n",
    "ax.set_ylabel('Accuracy (%)')\n",
    "ax.set_xlabel(r'Values of $d$ (polynomial expansion)')\n",
    "\n",
    "#ax.plot(params, d0, color=colors[0], label='Subset with jet value 0', linestyle='--')\n",
    "#ax.plot(params, d1, color=colors[1], label='Subset with jet value 1', linestyle='--')\n",
    "#ax.plot(params, d2, color=colors[2], label='Subset with jet value 2', linestyle='--')\n",
    "#ax.plot(params, d3, color=colors[3], label='Subset with jet value 3', linestyle='--')\n",
    "ax.plot(params, np.mean(dd, axis=0), color=colors[0], label='Test set')\n",
    "\n",
    "ax.plot(params, np.mean(ddt, axis=0), color=colors[2], label='Train set', linestyle='--')\n",
    "\n",
    "major_ticks = params\n",
    "minor_ticks = np.arange(0, 1e-1, 100)\n",
    "\n",
    "ax.set_xticks(major_ticks)\n",
    "ax.set_xticks(minor_ticks, minor=True)\n",
    "\n",
    "ax.grid(which='minor', alpha=0.2)\n",
    "ax.grid(which='major', alpha=0.5)\n",
    "\n",
    "ax.set_title(r'Accuracy on the train and test set for different degrees of polynomial expansion')\n",
    "ax.legend(loc=0, prop={'size': 15})\n",
    "\n",
    "#plt.show()\n",
    "\n",
    "fig.savefig('./report/traintest2.png', bbox_inches='tight')\n",
    "#fig.savefig('./report/degrees2.jpg', bbox_inches='tight')"
   ]
  },
  {
   "cell_type": "markdown",
   "metadata": {},
   "source": [
    "## Train the model with the best parameters"
   ]
  },
  {
   "cell_type": "code",
   "execution_count": null,
   "metadata": {},
   "outputs": [],
   "source": [
    "def train_model(txs, ys, params):\n",
    "    \"\"\"Trains the classifier model\n",
    "    \n",
    "    Args:\n",
    "        txs: training data split into three subsets\n",
    "        y: labels of training data split into three subsets\n",
    "    \n",
    "    Returns:\n",
    "        ws: weights of each subsets.\n",
    "    \"\"\"\n",
    "    \n",
    "    ws = []\n",
    "    \n",
    "    for i in range(len(txs)):\n",
    "        \n",
    "        lambda_, degree, gamma, _ = params[i]\n",
    "        x_poly = build_poly(txs[i], degree)\n",
    "        initial_w = np.zeros((x_poly.shape[1], 1))\n",
    "        \n",
    "        ws.append(ridge_regression(ys[i], x_poly, lambda_=lambda_)[0])\n",
    "        \n",
    "    return ws"
   ]
  },
  {
   "cell_type": "code",
   "execution_count": null,
   "metadata": {},
   "outputs": [],
   "source": [
    "chosen_function = 'RidgeRegression'\n",
    "\n",
    "ws = train_model(x_tr_subsamples, y_tr_subsamples, best_tuple[chosen_function])"
   ]
  },
  {
   "cell_type": "markdown",
   "metadata": {},
   "source": [
    "## Generate submission"
   ]
  },
  {
   "cell_type": "code",
   "execution_count": null,
   "metadata": {},
   "outputs": [],
   "source": [
    "def generate_predictions(txs_te, ws, mask_test, y_pred, params):\n",
    "    \"\"\"Generate the predictions and save ouput\n",
    "    \n",
    "    Args:\n",
    "        txs_te: subsets of test dataset\n",
    "        ws: weights of the different subsets\n",
    "    \"\"\"\n",
    "    \n",
    "    for j in range(len(txs_te)):\n",
    "        degree = params[j][1]\n",
    "        y_pred[mask_test[j]] = [y[0] for y in predict_labels(build_poly(txs_te[j],degree), ws[j])]\n",
    "            \n",
    "    create_csv_submission(ids_te, y_pred, paths['submission'])"
   ]
  },
  {
   "cell_type": "code",
   "execution_count": null,
   "metadata": {},
   "outputs": [],
   "source": [
    "generate_predictions(x_te_subsamples, ws, mask_te, y_pred, best_tuple[chosen_function])"
   ]
  }
 ],
 "metadata": {
  "kernelspec": {
   "display_name": "Python 3 (ipykernel)",
   "language": "python",
   "name": "python3"
  },
  "language_info": {
   "codemirror_mode": {
    "name": "ipython",
    "version": 3
   },
   "file_extension": ".py",
   "mimetype": "text/x-python",
   "name": "python",
   "nbconvert_exporter": "python",
   "pygments_lexer": "ipython3",
   "version": "3.9.9"
  },
  "vscode": {
   "interpreter": {
    "hash": "aee8b7b246df8f9039afb4144a1f6fd8d2ca17a180786b69acc140d282b71a49"
   }
  }
 },
 "nbformat": 4,
 "nbformat_minor": 4
}
