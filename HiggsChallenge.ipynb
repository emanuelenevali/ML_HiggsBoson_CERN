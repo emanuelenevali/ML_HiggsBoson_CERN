{
 "cells": [
  {
   "cell_type": "markdown",
   "metadata": {},
   "source": [
    "# Higgs Boson - ML Challenge"
   ]
  },
  {
   "cell_type": "code",
   "execution_count": 94,
   "metadata": {},
   "outputs": [
    {
     "name": "stdout",
     "output_type": "stream",
     "text": [
      "The autoreload extension is already loaded. To reload it, use:\n",
      "  %reload_ext autoreload\n"
     ]
    }
   ],
   "source": [
    "# Useful starting lines\n",
    "%matplotlib inline\n",
    "import numpy as np\n",
    "import matplotlib.pyplot as plt\n",
    "\n",
    "from implementation import *\n",
    "from model_helpers import *\n",
    "from data_helpers import *\n",
    "\n",
    "%load_ext autoreload\n",
    "%autoreload 2"
   ]
  },
  {
   "cell_type": "markdown",
   "metadata": {},
   "source": [
    "## Load the dataset"
   ]
  },
  {
   "cell_type": "code",
   "execution_count": 11,
   "metadata": {},
   "outputs": [],
   "source": [
    "paths = { \n",
    "    'train' : 'data/train.csv',\n",
    "     'test' : 'data/test.csv',\n",
    "     'submission' : 'data/sample-submission.csv'\n",
    "        }\n",
    "N = 4\n",
    "\n",
    "y_tr, tx_tr, ids_tr = load_csv_data(paths['train'], sub_sample=False)\n",
    "y_te, tx_te, ids_te = load_csv_data(paths['test'])"
   ]
  },
  {
   "cell_type": "code",
   "execution_count": 12,
   "metadata": {},
   "outputs": [],
   "source": [
    "len_test = len(y_te)\n",
    "\n",
    "y_tr = y_tr[:, np.newaxis]\n",
    "y_pred = np.zeros(len_test)"
   ]
  },
  {
   "cell_type": "markdown",
   "metadata": {},
   "source": [
    "## Divide into 4 different subsets depending on jet value"
   ]
  },
  {
   "cell_type": "code",
   "execution_count": 13,
   "metadata": {},
   "outputs": [],
   "source": [
    "mask_tr = get_mask(tx_tr)\n",
    "mask_te = get_mask(tx_te)\n",
    "\n",
    "x_tr_subsamples = []\n",
    "y_tr_subsamples = []\n",
    "\n",
    "x_te_subsamples = []\n",
    "\n",
    "for i in range(N):\n",
    "    x_tr_subsamples.append(tx_tr[mask_tr[i]])\n",
    "    y_tr_subsamples.append(y_tr[mask_tr[i]])\n",
    "    x_te_subsamples.append(tx_te[mask_te[i]])"
   ]
  },
  {
   "cell_type": "markdown",
   "metadata": {},
   "source": [
    "## Process the dataset"
   ]
  },
  {
   "cell_type": "code",
   "execution_count": 14,
   "metadata": {},
   "outputs": [
    {
     "name": "stderr",
     "output_type": "stream",
     "text": [
      "C:\\Users\\Matteo\\AppData\\Local\\Programs\\Python\\Python39\\lib\\site-packages\\numpy\\core\\fromnumeric.py:3440: RuntimeWarning: Mean of empty slice.\n",
      "  return _methods._mean(a, axis=axis, dtype=dtype,\n",
      "C:\\Users\\Matteo\\AppData\\Local\\Programs\\Python\\Python39\\lib\\site-packages\\numpy\\core\\_methods.py:189: RuntimeWarning: invalid value encountered in double_scalars\n",
      "  ret = ret.dtype.type(ret / rcount)\n"
     ]
    }
   ],
   "source": [
    "for j in range(N):\n",
    "    x_tr_subsamples[j], x_te_subsamples[j] = pre_processing(x_tr_subsamples[j], x_te_subsamples[j], j)"
   ]
  },
  {
   "cell_type": "markdown",
   "metadata": {},
   "source": [
    "## Cross Validation"
   ]
  },
  {
   "cell_type": "code",
   "execution_count": 27,
   "metadata": {},
   "outputs": [],
   "source": [
    "def cross_validation(y, x, k_indices, k, lambda_, degree, function, max_iters=500):\n",
    "    \"\"\"\n",
    "    Return the loss of ridge regression for a fold corresponding to k_indices\n",
    "    \n",
    "    Args:\n",
    "        y:          shape=(N, 1)\n",
    "        x:          shape=(N, D)\n",
    "        k_indices:  2D array returned by build_k_indices()\n",
    "        k:          scalar, the k-th fold\n",
    "        lambda_:    scalar, used by ridge regression\n",
    "        degree:     scalar, used by build poly\n",
    "        gamma:      scalar, stepsize\n",
    "\n",
    "    Returns:\n",
    "        test loss: probability of predicting correct values\n",
    "    \"\"\"\n",
    "    \n",
    "    train_id = np.delete(k_indices, k, axis=0).ravel()\n",
    "    test_id = k_indices[k]\n",
    "    \n",
    "    x_tr, y_tr = x[train_id], y[train_id]\n",
    "    x_te, y_te = x[test_id], y[test_id]\n",
    "    \n",
    "    x_tr, x_te = build_poly(x_tr, degree), build_poly(x_te, degree)\n",
    "    \n",
    "    initial_w = np.zeros((x_tr.shape[1], 1))\n",
    "    \n",
    "    \n",
    "    if function == 'RidgeRegression':\n",
    "        \n",
    "        w, _ = ridge_regression(y_tr, x_tr, lambda_)\n",
    "\n",
    "    elif function == 'LeastSquares':\n",
    "        \n",
    "        w, _ = least_squares(y_tr, x_tr)\n",
    "        \n",
    "    elif function == 'LogisticRegression':\n",
    "        \n",
    "        w, _ = logistic_regression(y_tr, x_tr, initial_w, max_iters, gamma)\n",
    "        \n",
    "    elif function == 'RegLogisticRegression':\n",
    "        \n",
    "        w, _ = reg_logistic_regression(y_tr, x_tr, lambda_, initial_w, max_iters, gamma)\n",
    "    \n",
    "    \n",
    "    return (y_te == predict_labels(x_te, w)).mean()"
   ]
  },
  {
   "cell_type": "code",
   "execution_count": 50,
   "metadata": {},
   "outputs": [],
   "source": [
    "def cross_validation_grid_search(txs, ys, func):\n",
    "    \"\"\"\n",
    "    Runs cross validation on the data with different values of hyperparameters to compare accuracy\n",
    "    \n",
    "    Args:\n",
    "        txs: subsets of train dataset\n",
    "        ys:  labels of the different subsets\n",
    "        func: string, types of function\n",
    "        \n",
    "    \"\"\"\n",
    "    # Hyperparameters\n",
    "    k_fold = 4\n",
    "    seed = 100\n",
    "    \n",
    "    # Lambda: regularization parameter\n",
    "    lambdas = [1e-9, 1e-8, 1e-7, 1e-6, 1e-5, 1e-4, 1e-3, 1e-2, 1e-1]\n",
    "    \n",
    "    # Degree: feature augmentation\n",
    "    degrees = range(1, 11, 1)\n",
    "    \n",
    "    # Gamma: stepsize\n",
    "    #gammas = [] # [1e-6, 1e-5, 1e-4, 1e-3, 1e-2, 1e-1]\n",
    "    \n",
    "    # split data in k fold\n",
    "    k_indices = []\n",
    "    for i in range(len(txs)):\n",
    "        k_indices.append(build_k_indices(ys[i].shape[0], k_fold, seed))\n",
    "        \n",
    "    print(f\"Function: {func}\")\n",
    "        \n",
    "    best_tuple = [(-1, -1, -1)]*N\n",
    "    \n",
    "    # cross validation\n",
    "    total_acc = np.array([0]*N)\n",
    "    \n",
    "    lambdas_acc = {}\n",
    "    degrees_acc = {}\n",
    "    \n",
    "    for i in range(len(txs)):\n",
    "        \n",
    "        lambdas_acc[i] = [0]*len(lambdas)\n",
    "        \n",
    "        max_acc = 0\n",
    "        print(f\"->Subset {i}:\")\n",
    "        \n",
    "        for l_i, l in enumerate(lambdas):\n",
    "            \n",
    "            max_local = 0\n",
    "            \n",
    "            for d in degrees:\n",
    "                    \n",
    "                pred_pcts = []\n",
    "                \n",
    "                for k in range(k_fold):\n",
    "                    pred_pct = cross_validation(ys[i], txs[i], k_indices[i], k, l, d, func)\n",
    "                    pred_pcts.append(pred_pct)\n",
    "\n",
    "                pct = np.mean(pred_pcts)\n",
    "                \n",
    "                if pct > max_local:\n",
    "                    max_local = pct\n",
    "                    lambdas_acc[i][l_i] = pct\n",
    "                \n",
    "                if pct > max_acc:\n",
    "                    max_acc = pct\n",
    "                    best_tuple[i] = (l,d,pct)\n",
    "                    print(f\"- Set {i}/lamdba={l}/deg={d}/ACC={np.around(pct, 3)}\")\n",
    "                        \n",
    "        \n",
    "        total_acc[i] = max_acc\n",
    "        \n",
    "    mean_acc = np.mean(total_acc)\n",
    "    \n",
    "    print(f'Final mean accuracy: {mean_acc}')\n",
    "    \n",
    "    return best_tuple, lambdas_acc, degrees_acc"
   ]
  },
  {
   "cell_type": "code",
   "execution_count": 51,
   "metadata": {},
   "outputs": [
    {
     "name": "stdout",
     "output_type": "stream",
     "text": [
      "Function: RidgeRegression\n",
      "->Subset 0:\n",
      "- Set 0/lamdba=1e-09/deg=1/ACC=0.823\n",
      "- Set 0/lamdba=1e-09/deg=2/ACC=0.836\n",
      "- Set 0/lamdba=1e-09/deg=3/ACC=0.841\n",
      "- Set 0/lamdba=1e-09/deg=4/ACC=0.841\n",
      "- Set 0/lamdba=1e-09/deg=5/ACC=0.843\n",
      "- Set 0/lamdba=1e-09/deg=6/ACC=0.844\n",
      "- Set 0/lamdba=1e-09/deg=7/ACC=0.844\n",
      "- Set 0/lamdba=1e-08/deg=7/ACC=0.844\n",
      "- Set 0/lamdba=1e-07/deg=7/ACC=0.844\n",
      "->Subset 1:\n",
      "- Set 1/lamdba=1e-09/deg=1/ACC=0.739\n",
      "- Set 1/lamdba=1e-09/deg=2/ACC=0.783\n",
      "- Set 1/lamdba=1e-09/deg=3/ACC=0.802\n",
      "- Set 1/lamdba=1e-09/deg=4/ACC=0.805\n",
      "- Set 1/lamdba=1e-09/deg=5/ACC=0.807\n",
      "- Set 1/lamdba=1e-09/deg=6/ACC=0.807\n",
      "- Set 1/lamdba=1e-09/deg=7/ACC=0.808\n",
      "- Set 1/lamdba=1e-05/deg=7/ACC=0.808\n",
      "- Set 1/lamdba=1e-05/deg=10/ACC=0.808\n",
      "- Set 1/lamdba=0.0001/deg=7/ACC=0.808\n",
      "- Set 1/lamdba=0.0001/deg=9/ACC=0.808\n",
      "- Set 1/lamdba=0.0001/deg=10/ACC=0.808\n",
      "->Subset 2:\n",
      "- Set 2/lamdba=1e-09/deg=1/ACC=0.759\n",
      "- Set 2/lamdba=1e-09/deg=2/ACC=0.819\n",
      "- Set 2/lamdba=1e-09/deg=3/ACC=0.831\n",
      "- Set 2/lamdba=1e-09/deg=4/ACC=0.833\n",
      "- Set 2/lamdba=1e-09/deg=5/ACC=0.833\n",
      "- Set 2/lamdba=1e-09/deg=6/ACC=0.833\n",
      "- Set 2/lamdba=1e-09/deg=7/ACC=0.834\n",
      "- Set 2/lamdba=1e-09/deg=8/ACC=0.835\n",
      "->Subset 3:\n",
      "- Set 3/lamdba=1e-09/deg=1/ACC=0.749\n",
      "- Set 3/lamdba=1e-09/deg=2/ACC=0.817\n",
      "- Set 3/lamdba=1e-09/deg=3/ACC=0.825\n",
      "- Set 3/lamdba=1e-09/deg=4/ACC=0.838\n",
      "- Set 3/lamdba=1e-09/deg=5/ACC=0.839\n",
      "- Set 3/lamdba=0.001/deg=4/ACC=0.839\n",
      "- Set 3/lamdba=0.001/deg=5/ACC=0.839\n",
      "Final mean accuracy: 0.0\n"
     ]
    }
   ],
   "source": [
    "functions = ['RidgeRegression', 'LeastSquares', 'RegLogisticRegression']\n",
    "\n",
    "best_tuple = {}\n",
    "\n",
    "for func in functions[:-2]:\n",
    "    best_tuple[func], lambdas, degrees = cross_validation_grid_search(x_tr_subsamples,y_tr_subsamples,func)"
   ]
  },
  {
   "cell_type": "code",
   "execution_count": 52,
   "metadata": {},
   "outputs": [
    {
     "data": {
      "text/plain": [
       "{0: [0.8437525022019376,\n",
       "  0.8437625110096885,\n",
       "  0.8437725198174393,\n",
       "  0.8437625110096885,\n",
       "  0.8437224757786852,\n",
       "  0.843732484586436,\n",
       "  0.8435323084314196,\n",
       "  0.8418508287292817,\n",
       "  0.8318119945552086],\n",
       " 1: [0.8079541937480655,\n",
       "  0.8079412978438049,\n",
       "  0.8079541937480655,\n",
       "  0.8079412978438048,\n",
       "  0.8080057773651088,\n",
       "  0.8083152790673682,\n",
       "  0.808057360982152,\n",
       "  0.8038532961931291,\n",
       "  0.7824074074074074],\n",
       " 2: [0.8345045259647451,\n",
       "  0.8345045259647451,\n",
       "  0.8345045259647451,\n",
       "  0.8344846752421787,\n",
       "  0.8344251230744799,\n",
       "  0.8342861680165158,\n",
       "  0.8338891535651898,\n",
       "  0.8316063204700651,\n",
       "  0.8127481340320788],\n",
       " 3: [0.8389279913373038,\n",
       "  0.8389279913373038,\n",
       "  0.8389279913373038,\n",
       "  0.8389279913373038,\n",
       "  0.8389279913373038,\n",
       "  0.838747518498466,\n",
       "  0.8392889370149792,\n",
       "  0.8378451543042772,\n",
       "  0.81109005594658]}"
      ]
     },
     "execution_count": 52,
     "metadata": {},
     "output_type": "execute_result"
    }
   ],
   "source": [
    "lambdas"
   ]
  },
  {
   "cell_type": "code",
   "execution_count": 58,
   "metadata": {},
   "outputs": [
    {
     "data": {
      "text/plain": [
       "array([0.8312848 , 0.83128408, 0.83128981, 0.83127912, 0.83127034,\n",
       "       0.83127036, 0.83119194, 0.8287889 , 0.8095144 ])"
      ]
     },
     "execution_count": 58,
     "metadata": {},
     "output_type": "execute_result"
    }
   ],
   "source": [
    "l0 = np.array(lambdas[0])\n",
    "l1 = np.array(lambdas[1])\n",
    "l2 = np.array(lambdas[2])\n",
    "l3 = np.array(lambdas[3])\n",
    "\n",
    "ll = np.vstack((l0,l1,l2,l3))\n",
    "np.mean(ll, axis=0)"
   ]
  },
  {
   "cell_type": "code",
   "execution_count": 99,
   "metadata": {},
   "outputs": [],
   "source": [
    "# load package\n",
    "import matplotlib as mpl\n",
    "\n",
    "mpl.rcParams['pdf.fonttype'] = 42\n",
    "mpl.rcParams['ps.fonttype'] = 42\n",
    "mpl.rcParams['font.family'] = 'Arial'\n",
    "plt.rcParams['font.size'] = 15\n",
    "plt.rcParams['legend.fontsize'] = 18\n",
    "plt.rcParams['xtick.direction'] = 'out'\n",
    "plt.rcParams['ytick.direction'] = 'out'\n",
    "plt.rcParams['xtick.major.size'] = 5.0\n",
    "plt.rcParams['xtick.minor.size'] = 3.0\n",
    "plt.rcParams['ytick.major.size'] = 5.0\n",
    "plt.rcParams['ytick.minor.size'] = 3.0"
   ]
  },
  {
   "cell_type": "code",
   "execution_count": 105,
   "metadata": {},
   "outputs": [
    {
     "data": {
      "image/png": "[encoded data removed]",
      "text/plain": [
       "<Figure size 720x432 with 1 Axes>"
      ]
     },
     "metadata": {
      "needs_background": "light"
     },
     "output_type": "display_data"
    }
   ],
   "source": [
    "fig = plt.figure(figsize=(10,6))\n",
    "ax = fig.add_subplot(1,1,1)\n",
    "colors = ['#0051a2', '#97964a', '#ffd44f', '#f4777f', '#93003a']\n",
    "params = [1e-9, 1e-8, 1e-7, 1e-6, 1e-5, 1e-4, 1e-3, 1e-2, 1e-1]\n",
    "\n",
    "ax.set_xscale('log')\n",
    "\n",
    "ax.set_ylabel('Accuracy (%)')\n",
    "ax.set_xlabel(r'Values of $\\lambda$')\n",
    "\n",
    "ax.plot(params, l0, color=colors[0], label='Subset with jet value 0')\n",
    "ax.plot(params, l1, color=colors[1], label='Subset with jet value 1')\n",
    "ax.plot(params, l2, color=colors[2], label='Subset with jet value 2')\n",
    "ax.plot(params, l3, color=colors[3], label='Subset with jet value 3')\n",
    "ax.plot(params, np.mean(ll, axis=0), color=colors[4], label='Mean of the 4 subsets')\n",
    "\n",
    "major_ticks = params\n",
    "minor_ticks = np.arange(0, 1e-1, 1000)\n",
    "\n",
    "ax.set_xticks(major_ticks)\n",
    "ax.set_xticks(minor_ticks, minor=True)\n",
    "\n",
    "ax.grid(which='minor', alpha=0.2)\n",
    "ax.grid(which='major', alpha=0.5)\n",
    "\n",
    "ax.legend(loc=0, prop={'size': 15})\n",
    "\n",
    "fig.savefig('./report/lambdas.png', bbox_inches='tight')"
   ]
  },
  {
   "cell_type": "markdown",
   "metadata": {},
   "source": [
    "## Train the model with the best parameters"
   ]
  },
  {
   "cell_type": "code",
   "execution_count": 45,
   "metadata": {},
   "outputs": [],
   "source": [
    "def train_model(txs, ys, params):\n",
    "    \"\"\"Trains the classifier model\n",
    "    \n",
    "    Args:\n",
    "        txs: training data split into three subsets\n",
    "        y: labels of training data split into three subsets\n",
    "    \n",
    "    Returns:\n",
    "        ws: weights of each subsets.\n",
    "    \"\"\"\n",
    "    \n",
    "    ws = []\n",
    "    \n",
    "    for i in range(len(txs)):\n",
    "        \n",
    "        lambda_, degree, gamma, _ = params[i]\n",
    "        x_poly = build_poly(txs[i], degree)\n",
    "        initial_w = np.zeros((x_poly.shape[1], 1))\n",
    "        \n",
    "        ws.append(ridge_regression(ys[i], x_poly, lambda_=lambda_)[0])\n",
    "        \n",
    "    return ws"
   ]
  },
  {
   "cell_type": "code",
   "execution_count": 46,
   "metadata": {},
   "outputs": [],
   "source": [
    "chosen_function = 'RidgeRegression'\n",
    "\n",
    "ws = train_model(x_tr_subsamples, y_tr_subsamples, best_tuple[chosen_function])"
   ]
  },
  {
   "cell_type": "markdown",
   "metadata": {},
   "source": [
    "## Generate submission"
   ]
  },
  {
   "cell_type": "code",
   "execution_count": 47,
   "metadata": {},
   "outputs": [],
   "source": [
    "def generate_predictions(txs_te, ws, mask_test, y_pred, params):\n",
    "    \"\"\"Generate the predictions and save ouput\n",
    "    \n",
    "    Args:\n",
    "        txs_te: subsets of test dataset\n",
    "        ws: weights of the different subsets\n",
    "    \"\"\"\n",
    "    \n",
    "    for j in range(len(txs_te)):\n",
    "        degree = params[j][1]\n",
    "        y_pred[mask_test[j]] = [y[0] for y in predict_labels(build_poly(txs_te[j],degree), ws[j])]\n",
    "            \n",
    "    create_csv_submission(ids_te, y_pred, paths['submission'])"
   ]
  },
  {
   "cell_type": "code",
   "execution_count": 48,
   "metadata": {},
   "outputs": [],
   "source": [
    "generate_predictions(x_te_subsamples, ws, mask_te, y_pred, best_tuple[chosen_function])"
   ]
  },
  {
   "cell_type": "code",
   "execution_count": null,
   "metadata": {},
   "outputs": [],
   "source": []
  }
 ],
 "metadata": {
  "kernelspec": {
   "display_name": "Python 3 (ipykernel)",
   "language": "python",
   "name": "python3"
  },
  "language_info": {
   "codemirror_mode": {
    "name": "ipython",
    "version": 3
   },
   "file_extension": ".py",
   "mimetype": "text/x-python",
   "name": "python",
   "nbconvert_exporter": "python",
   "pygments_lexer": "ipython3",
   "version": "3.9.9"
  },
  "vscode": {
   "interpreter": {
    "hash": "aee8b7b246df8f9039afb4144a1f6fd8d2ca17a180786b69acc140d282b71a49"
   }
  }
 },
 "nbformat": 4,
 "nbformat_minor": 4
}
