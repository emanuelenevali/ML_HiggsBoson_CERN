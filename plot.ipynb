{
 "cells": [
  {
   "cell_type": "code",
   "execution_count": 6,
   "metadata": {},
   "outputs": [
    {
     "name": "stdout",
     "output_type": "stream",
     "text": [
      "The autoreload extension is already loaded. To reload it, use:\n",
      "  %reload_ext autoreload\n"
     ]
    }
   ],
   "source": [
    "# Useful starting lines\n",
    "%matplotlib inline\n",
    "import numpy as np\n",
    "import matplotlib.pyplot as plt\n",
    "\n",
    "from implementations import *\n",
    "from model_helpers import *\n",
    "from data_helpers import *\n",
    "\n",
    "%load_ext autoreload\n",
    "%autoreload 2"
   ]
  },
  {
   "cell_type": "code",
   "execution_count": 7,
   "metadata": {},
   "outputs": [],
   "source": [
    "paths = { \n",
    "    'train' : 'data/train.csv',\n",
    "     'test' : 'data/test.csv',\n",
    "     'submission' : 'data/sample-submission.csv'\n",
    "        }\n",
    "\n",
    "y_tr, tx_tr, ids_tr = load_csv_data(paths['train'], sub_sample=False)\n",
    "y_te, tx_te, ids_te = load_csv_data(paths['test'])"
   ]
  },
  {
   "cell_type": "code",
   "execution_count": 8,
   "metadata": {},
   "outputs": [],
   "source": [
    "mask_tr = get_mask(tx_tr)\n",
    "mask_te = get_mask(tx_te)\n",
    "\n",
    "x_tr_subsamples = []\n",
    "y_tr_subsamples = []\n",
    "\n",
    "x_te_subsamples = []\n",
    "\n",
    "for i in range(4):\n",
    "    x_tr_subsamples.append(tx_tr[mask_tr[i]])\n",
    "    y_tr_subsamples.append(y_tr[mask_tr[i]])\n",
    "    x_te_subsamples.append(tx_te[mask_te[i]])"
   ]
  },
  {
   "cell_type": "code",
   "execution_count": 9,
   "metadata": {},
   "outputs": [
    {
     "data": {
      "image/png": "[encoded data removed]",
      "text/plain": [
       "<Figure size 432x288 with 1 Axes>"
      ]
     },
     "metadata": {
      "needs_background": "light"
     },
     "output_type": "display_data"
    }
   ],
   "source": [
    "jet_num=1\n",
    "col=2\n",
    "data_jet=x_tr_subsamples[jet_num]  # select the desired jet number\n",
    "col_with=data_jet[:,col]  # select the col number\n",
    "plt.hist(col_with, bins=100);  # hist with outliers\n",
    "plt.title(\"DER_mass_MMC\")\n",
    "plt.savefig(\"HeavyTail_before_log.png\")"
   ]
  },
  {
   "cell_type": "code",
   "execution_count": 10,
   "metadata": {},
   "outputs": [],
   "source": [
    "def delete_outliers_from_col(tx,col, a=0.05):\n",
    "    \"\"\"\n",
    "    Delete the tails of tx given the quantile a (a=5% by default)\n",
    "    \"\"\"\n",
    "    tx[:, col][tx[:, col] < np.quantile(tx[:, col], a)] = np.quantile(tx[:, col], a)\n",
    "    tx[:, col][tx[:, col] > np.quantile(tx[:, col], 1 - a)] = np.quantile(tx[:, col], 1 - a)\n",
    "\n",
    "    return tx[:,col]\n",
    "\n",
    "\n",
    "\n",
    "def heavy_tail(x, col):\n",
    "\n",
    "    x[:, col] = np.log1p(x[:, col])\n",
    "\n",
    "    return x[:,col]"
   ]
  },
  {
   "cell_type": "code",
   "execution_count": 11,
   "metadata": {},
   "outputs": [
    {
     "data": {
      "image/png": "[encoded data removed]",
      "text/plain": [
       "<Figure size 432x288 with 1 Axes>"
      ]
     },
     "metadata": {
      "needs_background": "light"
     },
     "output_type": "display_data"
    }
   ],
   "source": [
    "# log transform\n",
    "log_col=heavy_tail(data_jet,col)\n",
    "plt.hist(log_col, bins=100);\n",
    "plt.title(\"DER_mass_MMC after log transform\")\n",
    "plt.savefig(\"HeavyTail_after_log.png\")"
   ]
  },
  {
   "cell_type": "code",
   "execution_count": null,
   "metadata": {},
   "outputs": [],
   "source": []
  }
 ],
 "metadata": {
  "kernelspec": {
   "display_name": "Python 3 (ipykernel)",
   "language": "python",
   "name": "python3"
  },
  "language_info": {
   "codemirror_mode": {
    "name": "ipython",
    "version": 3
   },
   "file_extension": ".py",
   "mimetype": "text/x-python",
   "name": "python",
   "nbconvert_exporter": "python",
   "pygments_lexer": "ipython3",
   "version": "3.9.12"
  },
  "vscode": {
   "interpreter": {
    "hash": "170b3903b861c3dd1b81fbc1c0c18578713e2bc310200ec417ba1a685bbb6a57"
   }
  }
 },
 "nbformat": 4,
 "nbformat_minor": 2
}
